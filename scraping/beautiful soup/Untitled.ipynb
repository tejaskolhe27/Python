{
 "cells": [
  {
   "cell_type": "code",
   "execution_count": null,
   "id": "b51a1f4e",
   "metadata": {},
   "outputs": [
    {
     "name": "stdout",
     "output_type": "stream",
     "text": [
      "Scraped data for: Wings\n"
     ]
    }
   ],
   "source": [
    "import time\n",
    "import requests\n",
    "from bs4 import BeautifulSoup\n",
    "import csv\n",
    "\n",
    "start_url = 'https://en.wikipedia.org/wiki/Academy_Award_for_Best_Picture'\n",
    "\n",
    "csv_file = open('movie_data.csv', 'w', newline='', encoding='utf-8')\n",
    "csv_writer = csv.DictWriter(csv_file, fieldnames=['TITLE', 'DIRECTED BY', 'RELEASE DATE'])\n",
    "csv_writer.writeheader()\n",
    "\n",
    "response = requests.get(start_url)\n",
    "\n",
    "soup = BeautifulSoup(response.text, 'html.parser')\n",
    "\n",
    "movie_links = soup.select(\"tr[style='background:#FAEB86'] a[href*='film)']\")\n",
    "\n",
    "for link in movie_links:\n",
    "        \n",
    "      \n",
    "        movie_url = 'https://en.wikipedia.org' + link['href']\n",
    "        movie_response = requests.get(movie_url)\n",
    "        movie_soup = BeautifulSoup(movie_response.text, 'html.parser')\n",
    "        title = movie_soup.select_one(\"h1[id='firstHeading'] i\").get_text()\n",
    "        directed_by = [director.get_text() for director in movie_soup.select(\"tr:contains('Directed by') a[href*='/wiki/']\")]\n",
    "        release_dates = [date.get_text() for date in movie_soup.select(\"tr:contains('Release dates')\")]\n",
    "        data = {\n",
    "                'TITLE': title,\n",
    "                'DIRECTED BY': directed_by,\n",
    "                'RELEASE DATE': release_dates,\n",
    "            }\n",
    "        csv_writer.writerow(data)\n",
    "        print(f\"Scraped data for: {title}\")\n",
    "        time.sleep(5)\n",
    "\n",
    "# Close the CSV file\n",
    "csv_file.close()"
   ]
  },
  {
   "cell_type": "code",
   "execution_count": null,
   "id": "f251e2d8",
   "metadata": {},
   "outputs": [],
   "source": []
  }
 ],
 "metadata": {
  "kernelspec": {
   "display_name": "Python 3 (ipykernel)",
   "language": "python",
   "name": "python3"
  },
  "language_info": {
   "codemirror_mode": {
    "name": "ipython",
    "version": 3
   },
   "file_extension": ".py",
   "mimetype": "text/x-python",
   "name": "python",
   "nbconvert_exporter": "python",
   "pygments_lexer": "ipython3",
   "version": "3.11.4"
  }
 },
 "nbformat": 4,
 "nbformat_minor": 5
}
